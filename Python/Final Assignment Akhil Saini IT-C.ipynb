{
 "cells": [
  {
   "cell_type": "code",
   "execution_count": 88,
   "metadata": {},
   "outputs": [],
   "source": [
    "import math"
   ]
  },
  {
   "cell_type": "code",
   "execution_count": 89,
   "metadata": {},
   "outputs": [
    {
     "name": "stdout",
     "output_type": "stream",
     "text": [
      "Enter the move (UP/DOWN/LEFT?RIGHT) or to exit enter (EXIT)UP 10\n",
      "UP\n",
      "10\n",
      "Enter the move (UP/DOWN/LEFT?RIGHT) or to exit enter (EXIT)EXIT\n",
      "10.0\n"
     ]
    }
   ],
   "source": [
    "# Question 1 :\n",
    "\n",
    "x=0\n",
    "y=0\n",
    "while(1):\n",
    "    move = input(\"Enter the move (UP/DOWN/LEFT?RIGHT) or to exit enter (EXIT)\")\n",
    "    ls = move.split(\" \")\n",
    "    if(move=='EXIT'):\n",
    "        break\n",
    "    print(ls[0])\n",
    "    print(ls[1])\n",
    "    if(ls[0]=='UP'):\n",
    "        y=y+int(ls[1])\n",
    "    elif(ls[0]=='DOWN'):\n",
    "        y=y-int(ls[1])\n",
    "    elif(ls[0]=='RIGHT'):\n",
    "        x=x+int(ls[1])\n",
    "    elif(ls[0]=='LEFT'):\n",
    "        x=x-int(ls[1])\n",
    "ans = math.sqrt((x**2+y**2))\n",
    "print(ans)"
   ]
  },
  {
   "cell_type": "code",
   "execution_count": 90,
   "metadata": {},
   "outputs": [
    {
     "name": "stdout",
     "output_type": "stream",
     "text": [
      "Enter the data :\n",
      "1 2 3 4 5 6\n",
      "Data to be searched :7\n",
      "Data absent\n"
     ]
    }
   ],
   "source": [
    "# Question 2 :\n",
    "\n",
    "print(\"Enter the data :\")\n",
    "ls = input().split()\n",
    "key = input(\"Data to be searched :\")\n",
    "if key in ls :\n",
    "    print(\"Data present\")\n",
    "else:\n",
    "    print(\"Data absent\")"
   ]
  },
  {
   "cell_type": "code",
   "execution_count": 91,
   "metadata": {},
   "outputs": [
    {
     "name": "stdout",
     "output_type": "stream",
     "text": [
      "It's not dark.\n"
     ]
    }
   ],
   "source": [
    "# Question 3 :\n",
    "\n",
    "import time \n",
    "time_a = time.localtime() \n",
    "if time_a.tm_hour>=20 and time_a.tm_hour<=6:\n",
    "    print(\"It's dark outside.\")\n",
    "else:\n",
    "    print(\"It's not dark.\")"
   ]
  },
  {
   "cell_type": "code",
   "execution_count": 13,
   "metadata": {},
   "outputs": [
    {
     "name": "stdout",
     "output_type": "stream",
     "text": [
      "Input lat1: 53.32055555555556\n",
      "Input lat2: 53.31861111111111\n",
      "Input lon1: -1.7297222222222221\n",
      "Input lon2: -1.6997222222222223\n",
      "2.006620431855356\n"
     ]
    }
   ],
   "source": [
    "# Question 4 :\n",
    "\n",
    "def distance(lat1, lat2, lon1, lon2):\n",
    "    lat1 = math.radians(lat1)\n",
    "    lat2 = math.radians(lat2)\n",
    "    lon1 = math.radians(lon1)\n",
    "    lon2 = math.radians(lon2)\n",
    "    \n",
    "    diff_lon = lon2-lon1\n",
    "    diff_lat = lat2-lat1\n",
    "    \n",
    "    radius = 6378.16    \n",
    "    a = math.sin(diff_lat / 2)**2 + math.cos(lat1) * math.cos(lat2) * math.sin(diff_lon / 2)**2\n",
    "    c = 2 * math.asin(math.sqrt(a))\n",
    "    \n",
    "    return(c * radius)\n",
    "    \n",
    "\n",
    "lat1 = float(input(\"Input lat1: \"))\n",
    "lat2 = float(input(\"Input lat2: \"))\n",
    "lon1 = float(input(\"Input lon1: \"))\n",
    "lon2 = float(input(\"Input lon2: \"))\n",
    "print(distance(lat1,lat2,lon1,lon2))"
   ]
  },
  {
   "cell_type": "code",
   "execution_count": 92,
   "metadata": {},
   "outputs": [
    {
     "name": "stdout",
     "output_type": "stream",
     "text": [
      "Enter your pin :1234\n",
      "Enter 1 for Cash Credit\n",
      "Enter 2 for Cash Withdrawel\n",
      "Enter 3 for Pin Change\n",
      "Enter 4 for Checking Balance\n",
      "Enter 5 for Exit\n",
      "Enter your choice1\n",
      "Enter the amount to credit: 10000\n",
      "Your amount have been credited.\n",
      "Enter 1 for Cash Credit\n",
      "Enter 2 for Cash Withdrawel\n",
      "Enter 3 for Pin Change\n",
      "Enter 4 for Checking Balance\n",
      "Enter 5 for Exit\n",
      "Enter your choice2\n",
      "Enter the amount to withdraw: 1000\n",
      "Your withdraw : 1000\n",
      "Enter 1 for Cash Credit\n",
      "Enter 2 for Cash Withdrawel\n",
      "Enter 3 for Pin Change\n",
      "Enter 4 for Checking Balance\n",
      "Enter 5 for Exit\n",
      "Enter your choice4\n",
      "Your available balance is : 9000\n",
      "Enter 1 for Cash Credit\n",
      "Enter 2 for Cash Withdrawel\n",
      "Enter 3 for Pin Change\n",
      "Enter 4 for Checking Balance\n",
      "Enter 5 for Exit\n",
      "Enter your choice5\n"
     ]
    },
    {
     "ename": "KeyboardInterrupt",
     "evalue": "Interrupted by user",
     "output_type": "error",
     "traceback": [
      "\u001b[1;31m---------------------------------------------------------------------------\u001b[0m",
      "\u001b[1;31mKeyboardInterrupt\u001b[0m                         Traceback (most recent call last)",
      "\u001b[1;32m<ipython-input-92-1e7608eaa860>\u001b[0m in \u001b[0;36m<module>\u001b[1;34m\u001b[0m\n\u001b[0;32m     28\u001b[0m         \u001b[0mprint\u001b[0m\u001b[1;33m(\u001b[0m\u001b[1;34m\"Your new pin is set to :\"\u001b[0m\u001b[1;33m,\u001b[0m\u001b[0mpin\u001b[0m\u001b[1;33m)\u001b[0m\u001b[1;33m\u001b[0m\u001b[1;33m\u001b[0m\u001b[0m\n\u001b[0;32m     29\u001b[0m \u001b[1;33m\u001b[0m\u001b[0m\n\u001b[1;32m---> 30\u001b[1;33m \u001b[1;32mwhile\u001b[0m\u001b[1;33m(\u001b[0m\u001b[0mpin\u001b[0m\u001b[1;33m==\u001b[0m\u001b[0mint\u001b[0m\u001b[1;33m(\u001b[0m\u001b[0minput\u001b[0m\u001b[1;33m(\u001b[0m\u001b[1;34m\"Enter your pin :\"\u001b[0m\u001b[1;33m)\u001b[0m\u001b[1;33m)\u001b[0m\u001b[1;33m)\u001b[0m\u001b[1;33m:\u001b[0m\u001b[1;33m\u001b[0m\u001b[1;33m\u001b[0m\u001b[0m\n\u001b[0m\u001b[0;32m     31\u001b[0m     \u001b[1;32mwhile\u001b[0m\u001b[1;33m(\u001b[0m\u001b[1;36m1\u001b[0m\u001b[1;33m)\u001b[0m\u001b[1;33m:\u001b[0m\u001b[1;33m\u001b[0m\u001b[1;33m\u001b[0m\u001b[0m\n\u001b[0;32m     32\u001b[0m         \u001b[1;32mif\u001b[0m\u001b[1;33m(\u001b[0m\u001b[0mint\u001b[0m\u001b[1;33m(\u001b[0m\u001b[0mpins\u001b[0m\u001b[1;33m)\u001b[0m\u001b[1;33m==\u001b[0m\u001b[0mpin\u001b[0m\u001b[1;33m)\u001b[0m\u001b[1;33m:\u001b[0m\u001b[1;33m\u001b[0m\u001b[1;33m\u001b[0m\u001b[0m\n",
      "\u001b[1;32m~\\anaconda3\\lib\\site-packages\\ipykernel\\kernelbase.py\u001b[0m in \u001b[0;36mraw_input\u001b[1;34m(self, prompt)\u001b[0m\n\u001b[0;32m    858\u001b[0m                 \u001b[1;34m\"raw_input was called, but this frontend does not support input requests.\"\u001b[0m\u001b[1;33m\u001b[0m\u001b[1;33m\u001b[0m\u001b[0m\n\u001b[0;32m    859\u001b[0m             )\n\u001b[1;32m--> 860\u001b[1;33m         return self._input_request(str(prompt),\n\u001b[0m\u001b[0;32m    861\u001b[0m             \u001b[0mself\u001b[0m\u001b[1;33m.\u001b[0m\u001b[0m_parent_ident\u001b[0m\u001b[1;33m,\u001b[0m\u001b[1;33m\u001b[0m\u001b[1;33m\u001b[0m\u001b[0m\n\u001b[0;32m    862\u001b[0m             \u001b[0mself\u001b[0m\u001b[1;33m.\u001b[0m\u001b[0m_parent_header\u001b[0m\u001b[1;33m,\u001b[0m\u001b[1;33m\u001b[0m\u001b[1;33m\u001b[0m\u001b[0m\n",
      "\u001b[1;32m~\\anaconda3\\lib\\site-packages\\ipykernel\\kernelbase.py\u001b[0m in \u001b[0;36m_input_request\u001b[1;34m(self, prompt, ident, parent, password)\u001b[0m\n\u001b[0;32m    902\u001b[0m             \u001b[1;32mexcept\u001b[0m \u001b[0mKeyboardInterrupt\u001b[0m\u001b[1;33m:\u001b[0m\u001b[1;33m\u001b[0m\u001b[1;33m\u001b[0m\u001b[0m\n\u001b[0;32m    903\u001b[0m                 \u001b[1;31m# re-raise KeyboardInterrupt, to truncate traceback\u001b[0m\u001b[1;33m\u001b[0m\u001b[1;33m\u001b[0m\u001b[1;33m\u001b[0m\u001b[0m\n\u001b[1;32m--> 904\u001b[1;33m                 \u001b[1;32mraise\u001b[0m \u001b[0mKeyboardInterrupt\u001b[0m\u001b[1;33m(\u001b[0m\u001b[1;34m\"Interrupted by user\"\u001b[0m\u001b[1;33m)\u001b[0m \u001b[1;32mfrom\u001b[0m \u001b[1;32mNone\u001b[0m\u001b[1;33m\u001b[0m\u001b[1;33m\u001b[0m\u001b[0m\n\u001b[0m\u001b[0;32m    905\u001b[0m             \u001b[1;32mexcept\u001b[0m \u001b[0mException\u001b[0m \u001b[1;32mas\u001b[0m \u001b[0me\u001b[0m\u001b[1;33m:\u001b[0m\u001b[1;33m\u001b[0m\u001b[1;33m\u001b[0m\u001b[0m\n\u001b[0;32m    906\u001b[0m                 \u001b[0mself\u001b[0m\u001b[1;33m.\u001b[0m\u001b[0mlog\u001b[0m\u001b[1;33m.\u001b[0m\u001b[0mwarning\u001b[0m\u001b[1;33m(\u001b[0m\u001b[1;34m\"Invalid Message:\"\u001b[0m\u001b[1;33m,\u001b[0m \u001b[0mexc_info\u001b[0m\u001b[1;33m=\u001b[0m\u001b[1;32mTrue\u001b[0m\u001b[1;33m)\u001b[0m\u001b[1;33m\u001b[0m\u001b[1;33m\u001b[0m\u001b[0m\n",
      "\u001b[1;31mKeyboardInterrupt\u001b[0m: Interrupted by user"
     ]
    }
   ],
   "source": [
    "# Question 5 :\n",
    "\n",
    "amount = int(0)\n",
    "pin = int(1234)\n",
    "\n",
    "def cash_credit():\n",
    "    x = int(input(\"Enter the amount to credit: \"))\n",
    "    global amount\n",
    "    amount=amount+x;\n",
    "    print(\"Your amount have been credited.\")\n",
    "    \n",
    "def cash_withdrawal():\n",
    "    x = int(input(\"Enter the amount to withdraw: \"))\n",
    "    global amount\n",
    "    if(x>amount):\n",
    "        print(\"You don't have enough balance\")\n",
    "        return;\n",
    "    \n",
    "    amount=amount-x;\n",
    "    print(\"Your withdraw :\",x)\n",
    "\n",
    "def pin_change():\n",
    "    global pin\n",
    "    x = int(input(\"Enter the previous pin: \"))\n",
    "    if(x==pin):\n",
    "        x = input(\"Enter your new pin : \")\n",
    "        pin=x\n",
    "        print(\"Your new pin is set to :\",pin)\n",
    "    \n",
    "while(pin==int(input(\"Enter your pin :\"))):\n",
    "    while(1):\n",
    "        if(int(pins)==pin):\n",
    "            print(\"Enter 1 for Cash Credit\")\n",
    "            print(\"Enter 2 for Cash Withdrawel\")\n",
    "            print(\"Enter 3 for Pin Change\")\n",
    "            print(\"Enter 4 for Checking Balance\")\n",
    "            print(\"Enter 5 for Exit\")\n",
    "            choice = int(input(\"Enter your choice\"))\n",
    "            if(choice==1):\n",
    "                cash_credit()\n",
    "            elif(choice==2):\n",
    "                cash_withdrawal()\n",
    "            elif(choice==3):\n",
    "                pin_change()\n",
    "            elif(choice==4):\n",
    "                print(\"Your available balance is :\",amount)\n",
    "            elif(choice==5):\n",
    "                break\n",
    "            else:\n",
    "                print(\"Enter Valid Choice\")\n",
    "        else:\n",
    "            print(\"Wrong Pin\")"
   ]
  },
  {
   "cell_type": "code",
   "execution_count": 93,
   "metadata": {},
   "outputs": [
    {
     "name": "stdout",
     "output_type": "stream",
     "text": [
      "2002,2009,2016,2023,2037,2044,2051,2058,2072,2079,2086,2093,2107,2114,2121,2128,2142,2149,2156,2163,2177,2184,2191,2198,2212,2219,2226,2233,2247,2254,2261,2268,2282,2289,2296,2303,2317,2324,2331,2338,2352,2359,2366,2373,2387,2394,2401,2408,2422,2429,2436,2443,2457,2464,2471,2478,2492,2499,2506,2513,2527,2534,2541,2548,2562,2569,2576,2583,2597,2604,2611,2618,2632,2639,2646,2653,2667,2674,2681,2688,2702,2709,2716,2723,2737,2744,2751,2758,2772,2779,2786,2793,2807,2814,2821,2828,2842,2849,2856,2863,2877,2884,2891,2898,2912,2919,2926,2933,2947,2954,2961,2968,2982,2989,2996,3003,3017,3024,3031,3038,3052,3059,3066,3073,3087,3094,3101,3108,3122,3129,3136,3143,3157,3164,3171,3178,3192,3199,"
     ]
    }
   ],
   "source": [
    "# Question 6 :\n",
    "\n",
    "ls = range(2000,3201)\n",
    "for i in ls:\n",
    "    if(i%7==0 and i%5!=0 ):\n",
    "        print(i,end=',')"
   ]
  },
  {
   "cell_type": "code",
   "execution_count": 94,
   "metadata": {},
   "outputs": [
    {
     "name": "stdout",
     "output_type": "stream",
     "text": [
      "Enter the number :6\n",
      "720\n"
     ]
    }
   ],
   "source": [
    "# Question 7 :\n",
    "\n",
    "def factorial(num):\n",
    "    if(num==1):\n",
    "        return 1\n",
    "    return num*(factorial(num-1))\n",
    "\n",
    "num = int(input(\"Enter the number :\"))\n",
    "print(factorial(num))"
   ]
  },
  {
   "cell_type": "code",
   "execution_count": 95,
   "metadata": {},
   "outputs": [
    {
     "name": "stdout",
     "output_type": "stream",
     "text": [
      "Enter Value of D:30,60,90\n",
      "[10, 14, 17]\n"
     ]
    }
   ],
   "source": [
    "# Question 8 :\n",
    "\n",
    "ls = input('Enter Value of D:').split(\",\")\n",
    "C=50\n",
    "H=30\n",
    "\n",
    "ans = []\n",
    "for i in ls :\n",
    "    ans.append(int(math.sqrt((2*C*int(i))/H)))\n",
    "print(ans)"
   ]
  },
  {
   "cell_type": "code",
   "execution_count": 96,
   "metadata": {},
   "outputs": [
    {
     "name": "stdout",
     "output_type": "stream",
     "text": [
      "Enter value of n :6\n",
      "Enter value of m :6\n",
      "[[0, 0, 0, 0, 0, 0], [0, 1, 2, 3, 4, 5], [0, 2, 4, 6, 8, 10], [0, 3, 6, 9, 12, 15], [0, 4, 8, 12, 16, 20], [0, 5, 10, 15, 20, 25]]\n"
     ]
    }
   ],
   "source": [
    "# Question 9 :\n",
    "\n",
    "n = int(input(\"Enter value of n :\"))\n",
    "m = int(input(\"Enter value of m :\"))\n",
    "ls = [[0 for i in range(m)] for j in range(n)]\n",
    "for i in range(n):\n",
    "    for j in range(m):\n",
    "        ls[i][j]=(i*j)\n",
    "print(ls)"
   ]
  },
  {
   "cell_type": "code",
   "execution_count": 97,
   "metadata": {},
   "outputs": [
    {
     "name": "stdout",
     "output_type": "stream",
     "text": [
      "Enter the words :without, hello, bag, world\n",
      " bag, hello, world,without\n"
     ]
    }
   ],
   "source": [
    "# Question 10 :\n",
    "\n",
    "ls = input(\"Enter the words :\").split(',')\n",
    "ls.sort()\n",
    "print((',').join(ls))"
   ]
  },
  {
   "cell_type": "code",
   "execution_count": 99,
   "metadata": {},
   "outputs": [
    {
     "name": "stdout",
     "output_type": "stream",
     "text": [
      "dfkfj dkfdlfjl kfldfdjfd\n",
      "\n",
      "DFKFJ DKFDLFJL KFLDFDJFD \n"
     ]
    }
   ],
   "source": [
    "# Question 11 :\n",
    "\n",
    "lines = []\n",
    "ans = []\n",
    "while True:\n",
    "    line = input()\n",
    "    if line:\n",
    "        lines.append(line)\n",
    "    else:\n",
    "        break\n",
    "        \n",
    "for i in lines:\n",
    "    lss=i.split(' ')\n",
    "    tmp = ''\n",
    "    for j in lss:\n",
    "        tmp=tmp+j.upper()+' '\n",
    "    ans.append(tmp)\n",
    "text = '\\n'.join(ans)\n",
    "print(text)"
   ]
  },
  {
   "cell_type": "code",
   "execution_count": 100,
   "metadata": {},
   "outputs": [
    {
     "name": "stdout",
     "output_type": "stream",
     "text": [
      "Enter the text :hello world and practice makes perfect and hello world again\n",
      "again and hello makes perfect practice world\n"
     ]
    }
   ],
   "source": [
    "# Question 12 :\n",
    "\n",
    "text = input('Enter the text :').split(' ')\n",
    "maps = {}\n",
    "ans_text = []\n",
    "\n",
    "for i in text:\n",
    "    if i in maps:\n",
    "        continue\n",
    "    else:\n",
    "        maps[i]=1\n",
    "        ans_text.append(i)\n",
    "\n",
    "ans_text.sort()\n",
    "print((' ').join(ans_text))"
   ]
  },
  {
   "cell_type": "code",
   "execution_count": 101,
   "metadata": {},
   "outputs": [
    {
     "name": "stdout",
     "output_type": "stream",
     "text": [
      "Enter the text :0100,0011,1010,1001\n",
      "1010\n"
     ]
    }
   ],
   "source": [
    "# Question 13 :\n",
    "\n",
    "def binary_to_decimal(num):\n",
    "    return int(num,2)\n",
    "    \n",
    "\n",
    "bin_list = input('Enter the text :').split(',')\n",
    "ans_text = []\n",
    "\n",
    "for i in bin_list:\n",
    "    if(binary_to_decimal(i)%5==0):\n",
    "        ans_text.append(i)\n",
    "\n",
    "print((',').join(ans_text))"
   ]
  },
  {
   "cell_type": "code",
   "execution_count": 102,
   "metadata": {},
   "outputs": [
    {
     "name": "stdout",
     "output_type": "stream",
     "text": [
      "Enter the text: Hello world!\n",
      "UPPER CASE  1\n",
      "LOWER CASE  9\n"
     ]
    }
   ],
   "source": [
    "# Question 14 :\n",
    "\n",
    "ls = input('Enter the text: ')\n",
    "uppercase = 0\n",
    "lowercase = 0\n",
    "for i in range(len(ls)):\n",
    "    if ls[i].isupper():\n",
    "        uppercase+=1\n",
    "    elif ls[i].islower():\n",
    "        lowercase+=1\n",
    "\n",
    "print('UPPER CASE ',uppercase)\n",
    "print('LOWER CASE ',lowercase)\n",
    "        \n",
    "    "
   ]
  },
  {
   "cell_type": "code",
   "execution_count": 103,
   "metadata": {},
   "outputs": [
    {
     "name": "stdout",
     "output_type": "stream",
     "text": [
      "21\n",
      "21.0\n",
      "3.66\n"
     ]
    }
   ],
   "source": [
    "# Question 15 :\n",
    "\n",
    "numbers = [1,2,3,4,5,6]\n",
    "print(sum(numbers))\n",
    "print(math.fsum(numbers))\n",
    "\n",
    "arr = [1.1, 1.2, 1.36]\n",
    "print(math.fsum(arr))"
   ]
  },
  {
   "cell_type": "code",
   "execution_count": null,
   "metadata": {},
   "outputs": [],
   "source": []
  }
 ],
 "metadata": {
  "kernelspec": {
   "display_name": "Python 3",
   "language": "python",
   "name": "python3"
  },
  "language_info": {
   "codemirror_mode": {
    "name": "ipython",
    "version": 3
   },
   "file_extension": ".py",
   "mimetype": "text/x-python",
   "name": "python",
   "nbconvert_exporter": "python",
   "pygments_lexer": "ipython3",
   "version": "3.8.5"
  }
 },
 "nbformat": 4,
 "nbformat_minor": 4
}
